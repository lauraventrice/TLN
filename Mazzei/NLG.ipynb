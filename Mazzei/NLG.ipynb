{
 "cells": [
  {
   "cell_type": "markdown",
   "metadata": {},
   "source": [
    "## Implementation of [SimpleNLG Tutorials](https://github.com/simplenlg/simplenlg/wiki/Section-0-%E2%80%93-SimpleNLG-Tutorial)  in Python"
   ]
  },
  {
   "cell_type": "markdown",
   "metadata": {},
   "source": [
    "Dependency: \n",
    "pip3 install simplenlg"
   ]
  },
  {
   "cell_type": "code",
   "execution_count": 1,
   "metadata": {},
   "outputs": [],
   "source": [
    "from simplenlg.framework import *\n",
    "from simplenlg.lexicon import *\n",
    "from simplenlg.realiser.english import *\n",
    "from simplenlg.phrasespec import *\n",
    "from simplenlg.features import *\n",
    "import numpy as np"
   ]
  },
  {
   "cell_type": "markdown",
   "metadata": {},
   "source": [
    "### Section III – Getting started\n",
    "#### Generating the simplest phrase using SimpleNLG"
   ]
  },
  {
   "cell_type": "code",
   "execution_count": 2,
   "metadata": {},
   "outputs": [
    {
     "name": "stdout",
     "output_type": "stream",
     "text": [
      "My dog is happy.\n"
     ]
    }
   ],
   "source": [
    "lexicon = Lexicon.getDefaultLexicon()\n",
    "realiser = Realiser(lexicon)\n",
    "nlgFactory = NLGFactory(lexicon)\n",
    "s1 = nlgFactory.createSentence(\"my dog is happy\")\n",
    "output = realiser.realiseSentence(s1)\n",
    "print(output)"
   ]
  },
  {
   "cell_type": "markdown",
   "metadata": {},
   "source": [
    "### Section IV – Lexicon\n",
    "#### Custom Lexicon"
   ]
  },
  {
   "cell_type": "code",
   "execution_count": 3,
   "metadata": {},
   "outputs": [],
   "source": [
    "# lexicon = XMLLexicon(\"yourfile.xml\")"
   ]
  },
  {
   "cell_type": "markdown",
   "metadata": {},
   "source": [
    "### Section V – Generating a simple sentence\n",
    "#### Generating a sentence from verb,noun and object"
   ]
  },
  {
   "cell_type": "code",
   "execution_count": 4,
   "metadata": {},
   "outputs": [
    {
     "data": {
      "text/plain": [
       "'She loves her cat.'"
      ]
     },
     "execution_count": 4,
     "metadata": {},
     "output_type": "execute_result"
    }
   ],
   "source": [
    "p = nlgFactory.createClause()\n",
    "p.setSubject(\"She\")\n",
    "p.setVerb(\"love\")\n",
    "p.setObject(\"her cat\")\n",
    "realiser.realiseSentence(p)"
   ]
  },
  {
   "cell_type": "markdown",
   "metadata": {},
   "source": [
    "### Section VI – Verbs\n",
    "#### Using verbs in different senerios"
   ]
  },
  {
   "cell_type": "code",
   "execution_count": 5,
   "metadata": {},
   "outputs": [
    {
     "data": {
      "text/plain": [
       "'System detected two faces.'"
      ]
     },
     "execution_count": 5,
     "metadata": {},
     "output_type": "execute_result"
    }
   ],
   "source": [
    "## Past\n",
    "p = nlgFactory.createClause()\n",
    "p.setSubject(\"System\")\n",
    "p.setVerb(\"detect\")\n",
    "p.setObject(\"two faces\")\n",
    "p.setFeature(Feature.TENSE, Tense.PAST)\n",
    "realiser.realiseSentence(p)"
   ]
  },
  {
   "cell_type": "code",
   "execution_count": 6,
   "metadata": {},
   "outputs": [
    {
     "data": {
      "text/plain": [
       "'System will detect two faces.'"
      ]
     },
     "execution_count": 6,
     "metadata": {},
     "output_type": "execute_result"
    }
   ],
   "source": [
    "## Future\n",
    "p = nlgFactory.createClause()\n",
    "p.setSubject(\"System\")\n",
    "p.setVerb(\"detect\")\n",
    "p.setObject(\"two faces\")\n",
    "p.setFeature(Feature.TENSE, Tense.FUTURE)\n",
    "realiser.realiseSentence(p)"
   ]
  },
  {
   "cell_type": "code",
   "execution_count": 7,
   "metadata": {},
   "outputs": [
    {
     "data": {
      "text/plain": [
       "'System does not recognize Maleeha and Maryam.'"
      ]
     },
     "execution_count": 7,
     "metadata": {},
     "output_type": "execute_result"
    }
   ],
   "source": [
    "## Negotiation\n",
    "p = nlgFactory.createClause()\n",
    "p.setSubject(\"System\")\n",
    "p.setVerb(\"recognize\")\n",
    "p.setObject(\"Maleeha and Maryam\")\n",
    "p.setFeature(Feature.NEGATED,True)\n",
    "realiser.realiseSentence(p)"
   ]
  },
  {
   "cell_type": "code",
   "execution_count": 8,
   "metadata": {},
   "outputs": [
    {
     "data": {
      "text/plain": [
       "'Does You love her cat?'"
      ]
     },
     "execution_count": 8,
     "metadata": {},
     "output_type": "execute_result"
    }
   ],
   "source": [
    "## Interogation YES/NO\n",
    "p = nlgFactory.createClause()\n",
    "p.setSubject(\"You\")\n",
    "p.setVerb(\"love\")\n",
    "p.setObject(\"her cat\")\n",
    "p.setFeature(Feature.INTERROGATIVE_TYPE, InterrogativeType.YES_NO)\n",
    "realiser.realiseSentence(p)"
   ]
  },
  {
   "cell_type": "markdown",
   "metadata": {},
   "source": [
    "## Interrogazione si no"
   ]
  },
  {
   "cell_type": "code",
   "execution_count": 9,
   "metadata": {},
   "outputs": [
    {
     "data": {
      "text/plain": [
       "'Is Porcupine present in Amorentia potion?'"
      ]
     },
     "execution_count": 9,
     "metadata": {},
     "output_type": "execute_result"
    }
   ],
   "source": [
    "## Interogation YES/NO\n",
    "p = nlgFactory.createClause()\n",
    "p.setSubject(\"Porcupine\")\n",
    "p.setVerb(\"is present in\")\n",
    "p.setObject(\"Amorentia potion\")\n",
    "p.setFeature(Feature.INTERROGATIVE_TYPE, InterrogativeType.YES_NO)\n",
    "realiser.realiseSentence(p)"
   ]
  },
  {
   "cell_type": "code",
   "execution_count": 10,
   "metadata": {},
   "outputs": [
    {
     "data": {
      "text/plain": [
       "'Is Porcupine present in the potion?'"
      ]
     },
     "execution_count": 10,
     "metadata": {},
     "output_type": "execute_result"
    }
   ],
   "source": [
    "## Interogation YES/NO\n",
    "p = nlgFactory.createClause()\n",
    "p.setSubject(\"Porcupine\")\n",
    "p.setVerb(\"is present in\")\n",
    "p.setObject(\"the potion\")\n",
    "p.setFeature(Feature.INTERROGATIVE_TYPE, InterrogativeType.YES_NO)\n",
    "realiser.realiseSentence(p)"
   ]
  },
  {
   "cell_type": "code",
   "execution_count": 11,
   "metadata": {},
   "outputs": [
    {
     "data": {
      "text/plain": [
       "'Who does She love?'"
      ]
     },
     "execution_count": 11,
     "metadata": {},
     "output_type": "execute_result"
    }
   ],
   "source": [
    "## Interogation WHO\n",
    "p = nlgFactory.createClause()\n",
    "p.setSubject(\"She\")\n",
    "p.setVerb(\"love\")\n",
    "p.setFeature(Feature.INTERROGATIVE_TYPE, InterrogativeType.WHO_OBJECT)\n",
    "realiser.realiseSentence(p)"
   ]
  },
  {
   "cell_type": "markdown",
   "metadata": {},
   "source": [
    "### Section VII – What are complements\n",
    "#### Anything that comes after the verb"
   ]
  },
  {
   "cell_type": "code",
   "execution_count": 12,
   "metadata": {},
   "outputs": [
    {
     "data": {
      "text/plain": [
       "'She loves her cat deeply.'"
      ]
     },
     "execution_count": 12,
     "metadata": {},
     "output_type": "execute_result"
    }
   ],
   "source": [
    "## Adverb phrase\n",
    "p = nlgFactory.createClause()\n",
    "p.setSubject(\"She\")\n",
    "p.setVerb(\"love\")\n",
    "p.setObject(\"her cat\")\n",
    "p.addComplement(\"deeply\")\n",
    "realiser.realiseSentence(p)"
   ]
  },
  {
   "cell_type": "code",
   "execution_count": 13,
   "metadata": {},
   "outputs": [
    {
     "data": {
      "text/plain": [
       "'She drives despite her exhaustion.'"
      ]
     },
     "execution_count": 13,
     "metadata": {},
     "output_type": "execute_result"
    }
   ],
   "source": [
    "## Preposition phrase\n",
    "p = nlgFactory.createClause()\n",
    "p.setSubject(\"She\")\n",
    "p.setVerb(\"drives\")\n",
    "p.addComplement(\"despite her exhaustion\")\n",
    "realiser.realiseSentence(p)"
   ]
  },
  {
   "cell_type": "markdown",
   "metadata": {},
   "source": [
    "### Section VIII – Adding adjectives via ‘modifier\n",
    "#### Add Adjectives to Noun/Verb Pharses"
   ]
  },
  {
   "cell_type": "code",
   "execution_count": 14,
   "metadata": {},
   "outputs": [
    {
     "data": {
      "text/plain": [
       "'Fast Mary quickly chases the monkey despite her exhaustion.'"
      ]
     },
     "execution_count": 14,
     "metadata": {},
     "output_type": "execute_result"
    }
   ],
   "source": [
    "subject = nlgFactory.createNounPhrase(\"Mary\")\n",
    "obj = nlgFactory.createNounPhrase(\"the monkey\")\n",
    "verb = nlgFactory.createVerbPhrase(\"chase\")\n",
    "subject.addModifier(\"fast\")\n",
    "p.setSubject(subject)\n",
    "p.setObject(obj)\n",
    "p.setVerb(verb)\n",
    "verb.addModifier(\"quickly\")\n",
    "realiser.realiseSentence(p)"
   ]
  },
  {
   "cell_type": "markdown",
   "metadata": {},
   "source": [
    "### Section X – Adding multiple subjects, objects and complements"
   ]
  },
  {
   "cell_type": "code",
   "execution_count": 15,
   "metadata": {},
   "outputs": [
    {
     "data": {
      "text/plain": [
       "'Mary and your giraffe chase cat.'"
      ]
     },
     "execution_count": 15,
     "metadata": {},
     "output_type": "execute_result"
    }
   ],
   "source": [
    "## muliple nouns\n",
    "p= nlgFactory.createClause()\n",
    "subject1 = nlgFactory.createNounPhrase(\"Mary\")\n",
    "subject2 = nlgFactory.createNounPhrase(\"your\", \"giraffe\")\n",
    "subj = nlgFactory.createCoordinatedPhrase(subject1, subject2)\n",
    "\n",
    "p.setSubject(subj)\n",
    "p.setObject(\"cat\")\n",
    "p.setVerb(\"chase\")\n",
    "realiser.realiseSentence(p)"
   ]
  },
  {
   "cell_type": "code",
   "execution_count": 16,
   "metadata": {},
   "outputs": [
    {
     "data": {
      "text/plain": [
       "'She chases monkey and cat.'"
      ]
     },
     "execution_count": 16,
     "metadata": {},
     "output_type": "execute_result"
    }
   ],
   "source": [
    "## muliple objects\n",
    "p= nlgFactory.createClause()\n",
    "p.setSubject(\"She\")\n",
    "obj1 = nlgFactory.createNounPhrase(\"monkey\")\n",
    "obj2 = nlgFactory.createNounPhrase(\"cat\")\n",
    "obj = nlgFactory.createCoordinatedPhrase(obj1, obj2)\n",
    "p.setDeterminer(\"the\")\n",
    "\n",
    "p.setObject(obj)\n",
    "p.setVerb(\"chase\")\n",
    "realiser.realiseSentence(p)"
   ]
  },
  {
   "cell_type": "markdown",
   "metadata": {},
   "source": [
    "### Section XIII – Generating a sentence with multiple clauses\n",
    "#### Phrases joined by a conjunction"
   ]
  },
  {
   "cell_type": "code",
   "execution_count": 17,
   "metadata": {},
   "outputs": [
    {
     "data": {
      "text/plain": [
       "'My cat likes fish, my dog likes big bones and my horse likes grass.'"
      ]
     },
     "execution_count": 17,
     "metadata": {},
     "output_type": "execute_result"
    }
   ],
   "source": [
    "s1 = nlgFactory.createClause(\"my cat\", \"like\", \"fish\")\n",
    "s2 = nlgFactory.createClause(\"my dog\", \"like\", \"big bones\")\n",
    "s3 = nlgFactory.createClause(\"my horse\", \"like\", \"grass\")\n",
    "c = nlgFactory.createCoordinatedPhrase()\n",
    "c.addCoordinate(s1)\n",
    "c.addCoordinate(s2)\n",
    "c.addCoordinate(s3)\n",
    "realiser.realiseSentence(c)"
   ]
  },
  {
   "cell_type": "markdown",
   "metadata": {},
   "source": [
    "#### Subordinate clauses"
   ]
  },
  {
   "cell_type": "code",
   "execution_count": 18,
   "metadata": {},
   "outputs": [
    {
     "data": {
      "text/plain": [
       "'I am happy but I ate fish.'"
      ]
     },
     "execution_count": 18,
     "metadata": {},
     "output_type": "execute_result"
    }
   ],
   "source": [
    "a = nlgFactory.createClause(\"I\", \"be\", \"happy\")\n",
    "b = nlgFactory.createClause(\"I\", \"eat\", \"fish\")\n",
    "b.setFeature(Feature.COMPLEMENTISER, \"but\")\n",
    "b.setFeature(Feature.TENSE, Tense.PAST)\n",
    "a.addComplement(b)\n",
    "realiser.realiseSentence(a)"
   ]
  },
  {
   "cell_type": "markdown",
   "metadata": {},
   "source": [
    "### Section XIV – Beyond sentences\n",
    "#### Creating a Paragraph"
   ]
  },
  {
   "cell_type": "code",
   "execution_count": 19,
   "metadata": {},
   "outputs": [
    {
     "name": "stdout",
     "output_type": "stream",
     "text": [
      "Mary chases the monkey. The monkey fights back. Mary is nervous.\n",
      "\n",
      "\n"
     ]
    }
   ],
   "source": [
    "p1 = nlgFactory.createClause(\"Mary\", \"chase\", \"the monkey\")\n",
    "p2 = nlgFactory.createClause(\"The monkey\", \"fight back\")\n",
    "p3 = nlgFactory.createClause(\"Mary\", \"be\", \"nervous\")\n",
    "s1 = nlgFactory.createSentence(p1)\n",
    "s2 = nlgFactory.createSentence(p2)\n",
    "s3 = nlgFactory.createSentence(p3)\n",
    "paragraph = nlgFactory.createParagraph([s1,s2,s3])\n",
    "output = realiser.realise(paragraph).getRealisation()\n",
    "print(output)"
   ]
  },
  {
   "cell_type": "markdown",
   "metadata": {},
   "source": [
    "#### Add Section"
   ]
  },
  {
   "cell_type": "code",
   "execution_count": 20,
   "metadata": {},
   "outputs": [
    {
     "data": {
      "text/plain": [
       "'The Trials and Tribulations of Mary and the Monkey\\nMary chases the monkey. The monkey fights back. Mary is nervous.\\n\\n'"
      ]
     },
     "execution_count": 20,
     "metadata": {},
     "output_type": "execute_result"
    }
   ],
   "source": [
    "section = nlgFactory.createSection(\"The Trials and Tribulations of Mary and the Monkey\")\n",
    "section.addComponent(paragraph)\n",
    "output = realiser.realise(section).getRealisation()\n",
    "output"
   ]
  },
  {
   "cell_type": "markdown",
   "metadata": {},
   "source": [
    "## FRASI MOMENTANEE DA SISTEMARE PER NOI"
   ]
  },
  {
   "cell_type": "code",
   "execution_count": 21,
   "metadata": {},
   "outputs": [
    {
     "data": {
      "text/plain": [
       "'Do you think that INGNAME is present in POTNAME potion?'"
      ]
     },
     "execution_count": 21,
     "metadata": {},
     "output_type": "execute_result"
    }
   ],
   "source": [
    "## Do you think that INGNAME is present in POTNAME? - YES/NO\n",
    "\n",
    "p = nlgFactory.createClause(\"you\", \"think\")\n",
    "\n",
    "p0 = nlgFactory.createClause(\"INGNAME\", \"be present\", \"in POTNAME potion\")\n",
    "\n",
    "p.addComplement(p0)\n",
    "p.setFeature(Feature.INTERROGATIVE_TYPE, InterrogativeType.YES_NO)\n",
    "\n",
    "realiser.realiseSentence(p)\n"
   ]
  },
  {
   "cell_type": "code",
   "execution_count": 22,
   "metadata": {},
   "outputs": [
    {
     "data": {
      "text/plain": [
       "'Is INGNAME present in the POTNAME potion?'"
      ]
     },
     "execution_count": 22,
     "metadata": {},
     "output_type": "execute_result"
    }
   ],
   "source": [
    "## Is INGNAME present in the POTNAME potion? - YES/NO\n",
    "p = nlgFactory.createClause(\"INGNAME\", \"be present\", \"in the POTNAME potion\")\n",
    "p.setFeature(Feature.INTERROGATIVE_TYPE, InterrogativeType.YES_NO)\n",
    "realiser.realiseSentence(p)"
   ]
  },
  {
   "cell_type": "code",
   "execution_count": 23,
   "metadata": {},
   "outputs": [
    {
     "data": {
      "text/plain": [
       "'Do you think that INGNAME is an ingredient of this potion?'"
      ]
     },
     "execution_count": 23,
     "metadata": {},
     "output_type": "execute_result"
    }
   ],
   "source": [
    "## Do you think INGNAME is an ingredient of this potion? - YES/NO\n",
    "\n",
    "p = nlgFactory.createClause(\"you\", \"think\")\n",
    "\n",
    "p0 = nlgFactory.createClause(\"INGNAME\", \"be\", \"this potion\")\n",
    "p0.setIndirectObject(\"an ingredient of\")\n",
    "\n",
    "p.setComplement(p0)\n",
    "p.setFeature(Feature.INTERROGATIVE_TYPE, InterrogativeType.YES_NO)\n",
    "\n",
    "realiser.realiseSentence(p)\n"
   ]
  },
  {
   "cell_type": "code",
   "execution_count": 24,
   "metadata": {},
   "outputs": [
    {
     "data": {
      "text/plain": [
       "'Is INGNAME in the ingredient list of the POTNAME potion?'"
      ]
     },
     "execution_count": 24,
     "metadata": {},
     "output_type": "execute_result"
    }
   ],
   "source": [
    "#Is INGNAME in the ingredient list of the POTNAME potion? - YES/NO\n",
    "\n",
    "p = nlgFactory.createClause(\"INGNAME\", \"be\", \"of the POTNAME potion\")\n",
    "\n",
    "p.setIndirectObject(\"in the ingredient list\")\n",
    "\n",
    "p.setFeature(Feature.INTERROGATIVE_TYPE, InterrogativeType.YES_NO)\n",
    "\n",
    "realiser.realiseSentence(p)"
   ]
  },
  {
   "cell_type": "code",
   "execution_count": 25,
   "metadata": {},
   "outputs": [
    {
     "data": {
      "text/plain": [
       "'Would you be able to tell me if INGNAME is an ingredient in this potion?'"
      ]
     },
     "execution_count": 25,
     "metadata": {},
     "output_type": "execute_result"
    }
   ],
   "source": [
    "## Would you be able to tell me if INGNAME is an ingredient in the potion? - YES/NO\n",
    "\n",
    "p = nlgFactory.createClause(\"you\")\n",
    "\n",
    "verb = nlgFactory.createVerbPhrase(\"be able to tell me\")\n",
    "verb.setFeature(Feature.MODAL, \"would\")\n",
    "p.setVerbPhrase(verb)\n",
    "\n",
    "p0 = nlgFactory.createClause(\"INGNAME\", \"be\", \"this potion\")\n",
    "\n",
    "p0.setIndirectObject(\"an ingredient in\")\n",
    "p0.setFeature(Feature.COMPLEMENTISER, \"if\")\n",
    "p.setComplement(p0)\n",
    "p.setFeature(Feature.INTERROGATIVE_TYPE, InterrogativeType.YES_NO)\n",
    "\n",
    "realiser.realiseSentence(p)\n"
   ]
  },
  {
   "cell_type": "code",
   "execution_count": 26,
   "metadata": {},
   "outputs": [
    {
     "data": {
      "text/plain": [
       "'Are you sure that INGNAME is an ingredient of this potion?'"
      ]
     },
     "execution_count": 26,
     "metadata": {},
     "output_type": "execute_result"
    }
   ],
   "source": [
    "## Are you sure that INGNAME is an ingredient of this potion? - tricky\n",
    "\n",
    "\n",
    "p = nlgFactory.createClause(\"you\", \"be sure\")\n",
    "\n",
    "p0 = nlgFactory.createClause(\"INGNAME\", \"be\", \"this potion\")\n",
    "\n",
    "p0.setIndirectObject(\"an ingredient of\")\n",
    "\n",
    "p.setComplement(p0)\n",
    "p.setFeature(Feature.INTERROGATIVE_TYPE, InterrogativeType.YES_NO)\n",
    "\n",
    "realiser.realiseSentence(p)"
   ]
  },
  {
   "cell_type": "code",
   "execution_count": 27,
   "metadata": {},
   "outputs": [
    {
     "data": {
      "text/plain": [
       "'Are you sure that all the ingredients has been listed?'"
      ]
     },
     "execution_count": 27,
     "metadata": {},
     "output_type": "execute_result"
    }
   ],
   "source": [
    "# Are you sure that all the ingredients have been listed? - tricky\n",
    "\n",
    "p = nlgFactory.createClause(\"you\", \"be sure\")\n",
    "\n",
    "p0 = nlgFactory.createClause(\"all the ingredients\", \"have been listed\")\n",
    "\n",
    "p.setComplement(p0)\n",
    "p.setFeature(Feature.INTERROGATIVE_TYPE, InterrogativeType.YES_NO)\n",
    "\n",
    "realiser.realiseSentence(p)"
   ]
  },
  {
   "cell_type": "code",
   "execution_count": 28,
   "metadata": {},
   "outputs": [
    {
     "data": {
      "text/plain": [
       "'Are you sure that you have mentioned all the ingredients?'"
      ]
     },
     "execution_count": 28,
     "metadata": {},
     "output_type": "execute_result"
    }
   ],
   "source": [
    "# Are you sure you have mentioned all the ingredients? - tricky\n",
    "\n",
    "\n",
    "p = nlgFactory.createClause(\"you\", \"be sure\")\n",
    "\n",
    "p0 = nlgFactory.createClause(\"you\", \"have mentioned\", \"all the ingredients\") # o al posto di mentioned anche reported\n",
    "\n",
    "p.setComplement(p0)\n",
    "p.setFeature(Feature.INTERROGATIVE_TYPE, InterrogativeType.YES_NO)\n",
    "\n",
    "realiser.realiseSentence(p)\n"
   ]
  },
  {
   "cell_type": "code",
   "execution_count": 29,
   "metadata": {},
   "outputs": [
    {
     "data": {
      "text/plain": [
       "'You are right but you should tell me some more ingredients.'"
      ]
     },
     "execution_count": 29,
     "metadata": {},
     "output_type": "execute_result"
    }
   ],
   "source": [
    "## You are right but you should tell me some more ingredients. - ingredient_generic\n",
    "\n",
    "p = nlgFactory.createClause(\"you\")\n",
    "verb = nlgFactory.createVerbPhrase(\"be\")\n",
    "p.setVerb(verb)\n",
    "verb.addModifier(\"right\")\n",
    "\n",
    "p0 = nlgFactory.createClause(\"you\")\n",
    "verb0 = nlgFactory.createVerbPhrase(\"tell\")\n",
    "p0.setObject(\"some more ingredients\")\n",
    "p0.setVerb(verb0)\n",
    "verb0.setFeature(Feature.MODAL, \"should\")\n",
    "verb0.setPostModifier(\"me\")\n",
    "p0.setFeature(Feature.COMPLEMENTISER, \"but\")\n",
    "\n",
    "p.addComplement(p0)\n",
    "\n",
    "realiser.realiseSentence(p)\n",
    "\n"
   ]
  },
  {
   "cell_type": "code",
   "execution_count": 30,
   "metadata": {},
   "outputs": [
    {
     "data": {
      "text/plain": [
       "'What are the remaining ingredients?'"
      ]
     },
     "execution_count": 30,
     "metadata": {},
     "output_type": "execute_result"
    }
   ],
   "source": [
    "# What are the remaining ingredients? - ingredient_generic\n",
    "\n",
    "p = nlgFactory.createClause(\"the remaining ingredients\")\n",
    "\n",
    "verb = nlgFactory.createVerbPhrase(\"be\")\n",
    "verb.setPlural(True)\n",
    "\n",
    "p.setVerbPhrase(verb)\n",
    "p.setFeature(Feature.INTERROGATIVE_TYPE, InterrogativeType.WHAT_OBJECT)\n",
    "\n",
    "realiser.realiseSentence(p)"
   ]
  },
  {
   "cell_type": "code",
   "execution_count": 31,
   "metadata": {},
   "outputs": [
    {
     "data": {
      "text/plain": [
       "'What are the other ingredients?'"
      ]
     },
     "execution_count": 31,
     "metadata": {},
     "output_type": "execute_result"
    }
   ],
   "source": [
    "# What are the other ingredients? - ingredient_generic\n",
    "\n",
    "p = nlgFactory.createClause(\"the other ingredients\")\n",
    "\n",
    "verb = nlgFactory.createVerbPhrase(\"be\")\n",
    "verb.setPlural(True)\n",
    "\n",
    "p.setVerbPhrase(verb)\n",
    "p.setFeature(Feature.INTERROGATIVE_TYPE, InterrogativeType.WHAT_OBJECT)\n",
    "\n",
    "realiser.realiseSentence(p)"
   ]
  },
  {
   "cell_type": "code",
   "execution_count": 32,
   "metadata": {},
   "outputs": [
    {
     "data": {
      "text/plain": [
       "'What are the ingredients left?'"
      ]
     },
     "execution_count": 32,
     "metadata": {},
     "output_type": "execute_result"
    }
   ],
   "source": [
    "# What ingredients are left? - ingredients_generic \n",
    "\n",
    "p = nlgFactory.createClause(\"the ingredients\")\n",
    "p.setPlural(True)\n",
    "verb = nlgFactory.createVerbPhrase(\"be left\")\n",
    "\n",
    "p.setVerbPhrase(verb)\n",
    "p.setFeature(Feature.INTERROGATIVE_TYPE, InterrogativeType.WHAT_OBJECT)\n",
    "\n",
    "realiser.realiseSentence(p)\n",
    "\n"
   ]
  },
  {
   "cell_type": "code",
   "execution_count": 35,
   "metadata": {},
   "outputs": [
    {
     "data": {
      "text/plain": [
       "'You should tell me some more ingredients.'"
      ]
     },
     "execution_count": 35,
     "metadata": {},
     "output_type": "execute_result"
    }
   ],
   "source": [
    "p = nlgFactory.createClause(\"you\")\n",
    "verb = nlgFactory.createVerbPhrase(\"tell\")\n",
    "p.setObject(\"some more ingredients\")\n",
    "p.setVerb(verb)\n",
    "verb.setFeature(Feature.MODAL, \"should\")\n",
    "verb.setPostModifier(\"me\")\n",
    "\n",
    "realiser.realiseSentence(p)"
   ]
  }
 ],
 "metadata": {
  "kernelspec": {
   "display_name": "Python 3.10.4 64-bit",
   "language": "python",
   "name": "python3"
  },
  "language_info": {
   "codemirror_mode": {
    "name": "ipython",
    "version": 3
   },
   "file_extension": ".py",
   "mimetype": "text/x-python",
   "name": "python",
   "nbconvert_exporter": "python",
   "pygments_lexer": "ipython3",
   "version": "3.10.4"
  },
  "vscode": {
   "interpreter": {
    "hash": "aee8b7b246df8f9039afb4144a1f6fd8d2ca17a180786b69acc140d282b71a49"
   }
  }
 },
 "nbformat": 4,
 "nbformat_minor": 4
}
