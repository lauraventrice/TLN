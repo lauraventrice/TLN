{
 "cells": [
  {
   "cell_type": "code",
   "execution_count": 1,
   "metadata": {},
   "outputs": [
    {
     "data": {
      "text/html": [
       "<div>\n",
       "<style scoped>\n",
       "    .dataframe tbody tr th:only-of-type {\n",
       "        vertical-align: middle;\n",
       "    }\n",
       "\n",
       "    .dataframe tbody tr th {\n",
       "        vertical-align: top;\n",
       "    }\n",
       "\n",
       "    .dataframe thead th {\n",
       "        text-align: right;\n",
       "    }\n",
       "</style>\n",
       "<table border=\"1\" class=\"dataframe\">\n",
       "  <thead>\n",
       "    <tr style=\"text-align: right;\">\n",
       "      <th></th>\n",
       "      <th>Start</th>\n",
       "    </tr>\n",
       "  </thead>\n",
       "  <tbody>\n",
       "    <tr>\n",
       "      <th>0</th>\n",
       "      <td></td>\n",
       "    </tr>\n",
       "    <tr>\n",
       "      <th>1</th>\n",
       "      <td></td>\n",
       "    </tr>\n",
       "    <tr>\n",
       "      <th>2</th>\n",
       "      <td>CIAO</td>\n",
       "    </tr>\n",
       "    <tr>\n",
       "      <th>3</th>\n",
       "      <td>ENRICO</td>\n",
       "    </tr>\n",
       "  </tbody>\n",
       "</table>\n",
       "</div>"
      ],
      "text/plain": [
       "    Start\n",
       "0        \n",
       "1        \n",
       "2    CIAO\n",
       "3  ENRICO"
      ]
     },
     "execution_count": 1,
     "metadata": {},
     "output_type": "execute_result"
    }
   ],
   "source": [
    "import pandas as pd\n",
    "import numpy as np\n",
    "df = pd.DataFrame(np.empty((4,1),dtype=str),columns=['Start'])\n",
    "\n",
    "df.at[2, 'Start'] = \"CIAO\"\n",
    "df.at[3, 'Start'] = \"ENRICO\"\n",
    "\n",
    "df"
   ]
  },
  {
   "cell_type": "code",
   "execution_count": 4,
   "metadata": {},
   "outputs": [
    {
     "name": "stdout",
     "output_type": "stream",
     "text": [
      "['CIAO', 'ENRICO']\n"
     ]
    }
   ],
   "source": [
    "list = df['Start'].unique().tolist()\n",
    "list.remove(\"\")\n",
    "print(list)"
   ]
  },
  {
   "cell_type": "code",
   "execution_count": 7,
   "metadata": {},
   "outputs": [
    {
     "data": {
      "text/plain": [
       "{'text': \"I thik that Fluxweed, Chinese Chomping cabbage, Prune juice and Caterpillar arn't in the ption.\",\n",
       " 'result': \"I think that Fluxweed, Chinese Chomping cabbage, Prune juice and Caterpillar aren't in the potion.\",\n",
       " 'corrections': [{'start': 89,\n",
       "   'text': 'ption',\n",
       "   'correct': 'potion',\n",
       "   'definition': 'a medicinal or magical or poisonous beverage'},\n",
       "  {'start': 76,\n",
       "   'text': \"arn't\",\n",
       "   'correct': \"aren't\",\n",
       "   'definition': 'are not or (in questions) am not'},\n",
       "  {'start': 2,\n",
       "   'text': 'thik',\n",
       "   'correct': 'think',\n",
       "   'definition': 'judge or regard; look upon; judge'}]}"
      ]
     },
     "execution_count": 7,
     "metadata": {},
     "output_type": "execute_result"
    }
   ],
   "source": [
    "from gingerit.gingerit import GingerIt\n",
    "text = \"I thik that Fluxweed, Chinese Chomping cabbage, Prune juice and Caterpillar arn't in the ption.\"\n",
    "parser = GingerIt()\n",
    "parser.parse(text)"
   ]
  }
 ],
 "metadata": {
  "kernelspec": {
   "display_name": "Python 3.9.9 64-bit",
   "language": "python",
   "name": "python3"
  },
  "language_info": {
   "codemirror_mode": {
    "name": "ipython",
    "version": 3
   },
   "file_extension": ".py",
   "mimetype": "text/x-python",
   "name": "python",
   "nbconvert_exporter": "python",
   "pygments_lexer": "ipython3",
   "version": "3.9.9"
  },
  "orig_nbformat": 4,
  "vscode": {
   "interpreter": {
    "hash": "17f6057f19fd601e680b310ee2ebe0fee3e78679207250b2f4d8f20eb0597a02"
   }
  }
 },
 "nbformat": 4,
 "nbformat_minor": 2
}
