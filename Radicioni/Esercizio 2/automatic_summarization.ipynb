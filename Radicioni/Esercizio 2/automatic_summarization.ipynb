{
 "cells": [
  {
   "attachments": {},
   "cell_type": "markdown",
   "metadata": {},
   "source": [
    "# Esercizio 2: Automatic Summarization"
   ]
  },
  {
   "attachments": {},
   "cell_type": "markdown",
   "metadata": {},
   "source": [
    "- L'obiettivo del text summarization è quello di produrre una versione ridotta di un testo che contenga le informazioni importanti o pertinenti.\n",
    "    - un riassunto di un articolo scientifico, un riepilogo dei thread di posta elettronica, un titolo per un articolo di notizie o i brevi frammenti restituiti dai motori di ricerca web per descrivere ogni documento recuperato."
   ]
  },
  {
   "cell_type": "code",
   "execution_count": 18,
   "metadata": {},
   "outputs": [],
   "source": [
    "import re"
   ]
  },
  {
   "cell_type": "code",
   "execution_count": 19,
   "metadata": {},
   "outputs": [],
   "source": [
    "ddsmallnasari = {}\n",
    "\n",
    "\"\"\"\n",
    "Forma del dizionario:\n",
    "\n",
    "{'million': ['bn:00000013n',\n",
    "  'million',\n",
    "  ...,\n",
    "  'infinity'],\n",
    " 'day': ['bn:00000086n',\n",
    "  'day',\n",
    "  ...,\n",
    "  'time',\n",
    "  'clock']\n",
    "}\n",
    "\n",
    "\"\"\"\n",
    "\n",
    "def initialize_ddsmallnasari():\n",
    "    with open(f'NASARI/dd-small-nasari-15.txt', 'r', encoding=\"utf8\") as f:\n",
    "        lines = f.readlines()\n",
    "\n",
    "    for line in lines:\n",
    "        parts = line.split(\";\")\n",
    "        key = parts[1].lower()\n",
    "        var = []\n",
    "        for p in parts:\n",
    "            u = p.split(\"_\")\n",
    "            var.append(u[0].lower())\n",
    "            \n",
    "        ddsmallnasari[key] = var"
   ]
  },
  {
   "cell_type": "code",
   "execution_count": 26,
   "metadata": {},
   "outputs": [],
   "source": [
    "def read_doc(doc):\n",
    "    document = []\n",
    "    temp_document = []\n",
    "    with open('docs/{}'.format(doc), 'r', encoding=\"utf8\") as f:\n",
    "        lines = f.readlines()\n",
    "    for line in lines:\n",
    "        if(line!=\"\\n\"):\n",
    "            temp_document.append(line)\n",
    "\n",
    "    for elem in temp_document:\n",
    "        cleanString = re.sub(r\"[^a-zA-Z0-9]+\", ' ', elem)\n",
    "        document.append(cleanString)\n",
    "\n",
    "    return document"
   ]
  },
  {
   "cell_type": "code",
   "execution_count": 29,
   "metadata": {},
   "outputs": [
    {
     "data": {
      "text/plain": [
       "['Napoleone Bonaparte ',\n",
       " 'Napoleon Bonaparte born Napoleone di Buonaparte was a French statesman and military leader who rose to prominence during the French Revolution and led several successful campaigns during the French Revolutionary Wars ',\n",
       " 'He was Emperor of the French as Napoleon I from 1804 until 1814 and again briefly in 1815 during the Hundred Days Napoleon dominated European and global affairs for more than a decade while leading France against a series of coalitions in the Napoleonic Wars ',\n",
       " 'He won most of these wars and the vast majority of his battles building a large empire that ruled over much of continental Europe before its final collapse in 1815 He is considered one of the greatest commanders in history and his wars and campaigns are studied at military schools worldwide ',\n",
       " 'Napoleon s political and cultural legacy has endured as one of the most celebrated and controversial leaders in human history ',\n",
       " 'He was born in Corsica to a relatively modest Italian family from minor nobility He was serving as an artillery officer in the French army when the French Revolution erupted in 1789 He rapidly rose through the ranks of the military seizing the new opportunities presented by the Revolution and becoming a general at age 24 ',\n",
       " 'The French Directory eventually gave him command of the Army of Italy after he suppressed the 13 Vend miaire revolt against the government from royalist insurgents ',\n",
       " 'At age 26 he began his first military campaign against the Austrians and the Italian monarchs aligned with the Habsburgs winning virtually every battle conquering the Italian Peninsula in a year while establishing sister republics with local support and becoming a war hero in France ',\n",
       " 'In 1798 he led a military expedition to Egypt that served as a springboard to political power He orchestrated a coup in November 1799 and became First Consul of the Republic After the Peace of Amiens in 1802 Napoleon turned his attention to France s colonies He sold the Louisiana Territory to the United States and he attempted to restore slavery to the French Caribbean colonies However while he was successful in restoring slavery in the eastern Caribbean Napoleon failed in his attempts to subdue Saint Domingue and the colony that France once proudly boasted of as the Pearl of the Antilles became independent as Haiti in 1804 Napoleon s ambition and public approval inspired him to go further and he became the first Emperor of the French in 1804 ',\n",
       " 'Intractable differences with the British meant that the French were facing a Third Coalition by 1805 Napoleon shattered this coalition with decisive victories in the Ulm Campaign and a historic triumph over the Russian Empire and Austrian Empire at the Battle of Austerlitz which led to the dissolution of the Holy Roman Empire ',\n",
       " 'In 1806 the Fourth Coalition took up arms against him because Prussia became worried about growing French influence on the continent Napoleon quickly defeated Prussia at the battles of Jena and Auerstedt then marched his Grande Arm e deep into Eastern Europe and annihilated the Russians in June 1807 at the Battle of Friedland France then forced the defeated nations of the Fourth Coalition to sign the Treaties of Tilsit in July 1807 bringing an uneasy peace to the continent Tilsit signified the high water mark of the French Empire ',\n",
       " 'In 1809 the Austrians and the British challenged the French again during the War of the Fifth Coalition but Napoleon solidified his grip over Europe after triumphing at the Battle of Wagram in July ',\n",
       " 'Napoleon then occupied the Iberian Peninsula hoping to extend the Continental System and choke off British trade with the European mainland and declared his brother Joseph Bonaparte the King of Spain in 1808 The Spanish and the Portuguese revolted with British support The Peninsular War lasted six years featured extensive guerrilla warfare and ended in victory for the Allies against Napoleon ',\n",
       " 'The Continental System caused recurring diplomatic conflicts between France and its client states especially Russia The Russians were unwilling to bear the economic consequences of reduced trade and routinely violated the Continental System enticing Napoleon into another war ',\n",
       " 'The French launched a major invasion of Russia in the summer of 1812 The campaign destroyed Russian cities but did not yield the decisive victory Napoleon wanted It resulted in the collapse of the Grande Arm e and inspired a renewed push against Napoleon by his enemies In 1813 Prussia and Austria joined Russian forces in the War of the Sixth Coalition against France A lengthy military campaign culminated in a large Allied army defeating Napoleon at the Battle of Leipzig in October 1813 but his tactical victory at the minor Battle of Hanau allowed retreat onto French soil ',\n",
       " 'The Allies then invaded France and captured Paris in the spring of 1814 forcing Napoleon to abdicate in April He was exiled to the island of Elba off the coast of Tuscany and the Bourbon dynasty was restored to power Napoleon escaped from Elba in February 1815 and took control of France once again The Allies responded by forming a Seventh Coalition which defeated him at the Battle of Waterloo in June The British exiled him to the remote island of Saint Helena in the South Atlantic where he died six years later at the age of 51 ',\n",
       " 'Napoleon s influence on the modern world brought liberal reforms to the numerous territories that he conquered and controlled such as the Low Countries Switzerland and large parts of modern Italy and Germany He implemented fundamental liberal policies in France and throughout Western Europe His Napoleonic Code has influenced the legal systems of more than 70 nations around the world ',\n",
       " 'British historian Andrew Roberts states The ideas that underpin our modern world meritocracy equality before the law property rights religious toleration modern secular education sound finances and so on were championed consolidated codified and geographically extended by Napoleon To them he added a rational and efficient local administration an end to rural banditry the encouragement of science and the arts the abolition of feudalism and the greatest codification of laws since the fall of the Roman Empire ']"
      ]
     },
     "execution_count": 29,
     "metadata": {},
     "output_type": "execute_result"
    }
   ],
   "source": [
    "docs = [\"Andy-Warhol.txt\", \"Ebola-virus-disease.txt\", \"Life-indoors.txt\", \"Napoleon-wiki.txt\", \"Trump-wall.txt\"]\n",
    "\n",
    "document = read_doc(docs[3])\n",
    "\n",
    "document"
   ]
  },
  {
   "attachments": {},
   "cell_type": "markdown",
   "metadata": {},
   "source": [
    "### Funzione che calcola la Weighted Overlap"
   ]
  },
  {
   "cell_type": "code",
   "execution_count": null,
   "metadata": {},
   "outputs": [],
   "source": [
    "def WO(v1,v2): # Weighted Overlap\n",
    "    numeratore = 0\n",
    "    denominatore = 0\n",
    "    if v1 in ddsmallnasari and v2 in ddsmallnasari:\n",
    "        vector1 = ddsmallnasari[v1].copy()\n",
    "        vector2 = ddsmallnasari[v2].copy()\n",
    "\n",
    "        O = set(vector1).intersection(set(vector2)) # insieme di dimensioni sovrapposte\n",
    "\n",
    "        # calcolo numeratore\n",
    "        for q in O:\n",
    "            rankv1 = vector1.index(q) + 1 # + 1 per evitare di poter avere 0 al denominatore\n",
    "            rankv2 = vector2.index(q) + 1 # + 1 per evitare di poter avere 0 al denominatore\n",
    "            numeratore += 1/(rankv1 + rankv2)\n",
    "        \n",
    "        # calcolo denominatore\n",
    "        for i in range(0, len(O)):\n",
    "            denominatore += 1/(2*i)\n",
    "        \n",
    "    if denominatore != 0:\n",
    "        return numeratore/denominatore\n",
    "    else:\n",
    "        return 0\n",
    "    "
   ]
  }
 ],
 "metadata": {
  "kernelspec": {
   "display_name": "Python 3",
   "language": "python",
   "name": "python3"
  },
  "language_info": {
   "codemirror_mode": {
    "name": "ipython",
    "version": 3
   },
   "file_extension": ".py",
   "mimetype": "text/x-python",
   "name": "python",
   "nbconvert_exporter": "python",
   "pygments_lexer": "ipython3",
   "version": "3.10.4"
  },
  "orig_nbformat": 4,
  "vscode": {
   "interpreter": {
    "hash": "aee8b7b246df8f9039afb4144a1f6fd8d2ca17a180786b69acc140d282b71a49"
   }
  }
 },
 "nbformat": 4,
 "nbformat_minor": 2
}
