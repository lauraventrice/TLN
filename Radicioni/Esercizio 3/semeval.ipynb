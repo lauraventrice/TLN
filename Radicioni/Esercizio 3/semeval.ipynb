{
 "cells": [
  {
   "attachments": {},
   "cell_type": "markdown",
   "metadata": {},
   "source": [
    "# Esercitazione SemEval"
   ]
  },
  {
   "cell_type": "code",
   "execution_count": 78,
   "metadata": {},
   "outputs": [],
   "source": [
    "import hashlib\n",
    "import numpy as np\n",
    "import matplotlib.pyplot as plt\n",
    "import re\n",
    "import csv\n",
    "import scipy as scipy"
   ]
  },
  {
   "attachments": {},
   "cell_type": "markdown",
   "metadata": {},
   "source": [
    "### Parte 1"
   ]
  },
  {
   "cell_type": "code",
   "execution_count": 79,
   "metadata": {},
   "outputs": [
    {
     "name": "stdout",
     "output_type": "stream",
     "text": [
      "Scarpinati     :\tcoppie nell'intervallo 251-300\n"
     ]
    }
   ],
   "source": [
    "import hashlib\n",
    "import matplotlib.pyplot as plt\n",
    "\n",
    "def get_range(surname):\n",
    "    nof_elements = 500\n",
    "    base_idx = (abs(int(hashlib.sha512(surname.encode('utf-8')).hexdigest(), 16)) % 10)\n",
    "    idx_intervallo = base_idx * 50+1\n",
    "    return idx_intervallo\n",
    " \n",
    "\n",
    "input_name = \"Scarpinati\"\n",
    "\n",
    "values = []\n",
    "sx = get_range(input_name)\n",
    "values.append(sx)\n",
    "dx = sx+50-1\n",
    "intervallo = \"\" + str(sx) + \"-\" + str(dx)\n",
    "print('{:15}:\\tcoppie nell\\'intervallo {}'.format(input_name, intervallo))\n"
   ]
  },
  {
   "cell_type": "code",
   "execution_count": 80,
   "metadata": {},
   "outputs": [
    {
     "name": "stdout",
     "output_type": "stream",
     "text": [
      "['crittogramma\\tsimbolo', 'campus\\tuniversità', 'libertà\\tlibertà', 'tifone\\tciclone', 'manuale\\tguida turistica', 'Ebola\\tvirus Ebola', 'principessa\\tbiscotto', 'treno\\ttram', 'ecosistema\\teconomia', 'regina regnante\\tregina degli scacchi', 'oro\\tzinco', 'cursore\\tpatatine fritte', 'Rio delle Amazzoni\\tforesta', 'tennis\\tstatistica', 'Bolzano\\tteorema', 'altitudine\\tconversione', 'barca\\talbero', 'trono\\tspada', 'cotone\\tmaglione', 'ciliegia\\tfragola', 'Islam\\tCorano', 'Neanderthal\\tsport', 'nepotismo\\tre', 'personaggio\\tpersona', 'cisterna\\tvagone', 'Mercurio\\tGiove', 'bronchite\\tacetaminofene', 'sangue\\tcorpo', 'islamofobia\\tISIS', 'uncinetto\\tuniforme', 'Hadoop\\ttouchscreen', 'combustibile fossile\\tfossile', 'mutante\\tsociobiologia', 'sorella\\tfratello', 'matita\\tstoria', 'eczema\\tdermatite', 'imperatore\\tgovernatore', 'corona\\tchiave', 'algebra\\toperazione', 'pistone\\tmotore', 'borsa di studio\\tretta', 'libro\\tmanoscritto', 'lantana\\tbocca di leone', 'buco nero\\tvuoto', 'Impero Persiano\\tCiro', 'editoriale\\tnotizia', 'decorazione\\tbusta', 'squalo balena\\taragosta', 'mais\\tgranturco', 'disturbo bipolare\\tproblema']\n",
      "50\n"
     ]
    }
   ],
   "source": [
    "path_data = \"./utils/it.test.data.txt\"\n",
    "\n",
    "with open(path_data) as file:\n",
    "    lines = file.readlines()[sx:dx+1]\n",
    "    lines = [line.rstrip() for line in lines]\n",
    "    print(lines)\n",
    "    print(len(lines))"
   ]
  },
  {
   "attachments": {},
   "cell_type": "markdown",
   "metadata": {},
   "source": [
    "#### Scrittura coppie nel file tsv \n",
    "\n",
    "**ATTENZIONE!** NON ESEGUIRE PIU' QUESTA CELLA, IL FILE E' GIA' STATO CREATO"
   ]
  },
  {
   "cell_type": "code",
   "execution_count": 81,
   "metadata": {},
   "outputs": [
    {
     "data": {
      "text/plain": [
       "'file = \"./resources/it.test.data_annotated.tsv\"\\n\\nwith open(file, \\'wt\\') as out_file:\\n    tsv_writer = csv.writer(out_file, delimiter=\\'\\t\\')\\n    tsv_writer.writerow([\"Term1\", \"Term2\"])\\n    \\n    for tuple in lines:\\n        w_couple = re.split(r\\'\\t+\\', tuple.rstrip(\\'\\t\\'))\\n        print(w_couple)\\n        \\n        tsv_writer.writerow(w_couple)'"
      ]
     },
     "execution_count": 81,
     "metadata": {},
     "output_type": "execute_result"
    }
   ],
   "source": [
    "\"\"\"file = \"./resources/it.test.data_annotated.tsv\"\n",
    "\n",
    "with open(file, 'wt') as out_file:\n",
    "    tsv_writer = csv.writer(out_file, delimiter='\\t')\n",
    "    tsv_writer.writerow([\"Term1\", \"Term2\"])\n",
    "    \n",
    "    for tuple in lines:\n",
    "        w_couple = re.split(r'\\t+', tuple.rstrip('\\t'))\n",
    "        print(w_couple)\n",
    "        \n",
    "        tsv_writer.writerow(w_couple)\"\"\""
   ]
  },
  {
   "cell_type": "code",
   "execution_count": 82,
   "metadata": {},
   "outputs": [
    {
     "name": "stdout",
     "output_type": "stream",
     "text": [
      "50\n",
      "50\n"
     ]
    }
   ],
   "source": [
    "similarity_livio_string = []\n",
    "similarity_laura_string = []\n",
    "mean_similarity_string = []\n",
    "\n",
    "with open(\"./resources/it.test.data_annotated.tsv\") as file:\n",
    "    tsv_file = csv.reader(file, delimiter=\"\\t\")\n",
    "    for line in tsv_file:\n",
    "        similarity_livio_string.append(line[2])\n",
    "        similarity_laura_string.append(line[3])\n",
    "        mean_similarity_string.append(line[4])\n",
    "\n",
    "similarity_livio_string.pop(0)\n",
    "similarity_laura_string.pop(0)\n",
    "mean_similarity_string.pop(0)\n",
    "\n",
    "similarity_livio =[float(i) for i in similarity_livio_string]\n",
    "similarity_laura =[float(i) for i in similarity_laura_string]\n",
    "similarity_mean =[float(i) for i in mean_similarity_string]\n",
    "\n",
    "\n",
    "print(len(similarity_laura))\n",
    "print(len(similarity_livio))"
   ]
  },
  {
   "cell_type": "code",
   "execution_count": 83,
   "metadata": {},
   "outputs": [
    {
     "name": "stdout",
     "output_type": "stream",
     "text": [
      "##### Inter Agreement with Pearson & Spearman:\n",
      "Pearson \n",
      "(nan, nan)\n",
      "Spearman \n",
      "SpearmanrResult(correlation=nan, pvalue=nan)\n"
     ]
    },
    {
     "name": "stderr",
     "output_type": "stream",
     "text": [
      "/Library/Frameworks/Python.framework/Versions/3.10/lib/python3.10/site-packages/scipy/stats/_stats_py.py:4068: PearsonRConstantInputWarning: An input array is constant; the correlation coefficient is not defined.\n",
      "  warnings.warn(PearsonRConstantInputWarning())\n",
      "/Library/Frameworks/Python.framework/Versions/3.10/lib/python3.10/site-packages/scipy/stats/_stats_py.py:4529: SpearmanRConstantInputWarning: An input array is constant; the correlation coefficient is not defined.\n",
      "  warnings.warn(SpearmanRConstantInputWarning())\n"
     ]
    }
   ],
   "source": [
    "print(\"##### Inter Agreement with Pearson & Spearman:\")\n",
    "print(\"Pearson \")\n",
    "print(scipy.stats.pearsonr(similarity_livio, similarity_laura))\n",
    "print(\"Spearman \")\n",
    "print(scipy.stats.spearmanr(similarity_livio, similarity_laura))"
   ]
  },
  {
   "cell_type": "code",
   "execution_count": null,
   "metadata": {},
   "outputs": [],
   "source": []
  }
 ],
 "metadata": {
  "kernelspec": {
   "display_name": "Python 3",
   "language": "python",
   "name": "python3"
  },
  "language_info": {
   "codemirror_mode": {
    "name": "ipython",
    "version": 3
   },
   "file_extension": ".py",
   "mimetype": "text/x-python",
   "name": "python",
   "nbconvert_exporter": "python",
   "pygments_lexer": "ipython3",
   "version": "3.10.4 (v3.10.4:9d38120e33, Mar 23 2022, 17:29:05) [Clang 13.0.0 (clang-1300.0.29.30)]"
  },
  "orig_nbformat": 4,
  "vscode": {
   "interpreter": {
    "hash": "aee8b7b246df8f9039afb4144a1f6fd8d2ca17a180786b69acc140d282b71a49"
   }
  }
 },
 "nbformat": 4,
 "nbformat_minor": 2
}
