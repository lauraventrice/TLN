{
 "cells": [
  {
   "cell_type": "markdown",
   "metadata": {},
   "source": [
    "### Esercitazione su Word Sense Disambiguation: \n",
    "\n",
    "#### INPUT : \n",
    "l’input per questa esercitazione è costituito da coppie di termini contenute nel file WordSim353 (disponibile nei\n",
    "formati .tsv e .csv)\n",
    "- Il file contiene 353 coppie di termini utilizzati come testset in varie competizioni internazionali\n",
    "- A ciascuna coppia è attribuito un valore numerico [0,10], che rappresenta la similarità fra gli elementi della coppia."
   ]
  },
  {
   "cell_type": "code",
   "execution_count": 6,
   "metadata": {},
   "outputs": [
    {
     "name": "stdout",
     "output_type": "stream",
     "text": [
      "WordSim353 correctly loaded!\n"
     ]
    }
   ],
   "source": [
    "import csv\n",
    "\n",
    "sim_file = f\"resources/WordSim353/WordSim353.csv\"\n",
    "\n",
    "pairs = []\n",
    "with open(sim_file, 'r', encoding = \"utf-8\") as f:\n",
    "    reader = csv.reader(f)\n",
    "    reader.__next__()\n",
    "    for lines in reader:\n",
    "        pairs.append(lines)\n",
    "    \n",
    "print(\"WordSim353 correctly loaded!\")\n"
   ]
  },
  {
   "cell_type": "markdown",
   "metadata": {},
   "source": [
    "#### Prima parte\n",
    "\n",
    "Implementare tre misure di similarità basate su WordNet. Per ciascuna delle misure di similarità, calcolare:\n",
    "- gli indici di correlazione di Spearman e\n",
    "- gli indici di correlazione di Pearson fra i risultati ottenuti e quelli ‘target’ presenti nel file annotato.\n",
    "\n",
    "Le misure da implementare sono le seguenti: \n",
    "- Wu & Palmer: \n",
    "$$cs(s_1, s_2) = \\frac{2 \\cdot depth(LCS)}{depth(s_1) + depth(s_2)}$$\n",
    "\n",
    "in cui $LCS$ rappresenta il primo antenato comune (Lowest Common Subsumer) e depth è la funzione che misura la distanza fra la radice di WordNet e il sysnet $x$. \n",
    "- Shortest Path:\n",
    "$$sim_{path}(s_1, s_2) = 2 \\cdot depthMax - len(s_1, s_2)$$\n",
    "\n",
    "in cui $depthMax$ è un valore fissato per una specifica versione di WordNet. \n",
    "\n",
    "- Leakcock & Chodorow: \n",
    "$$sim_{LC}(s_1, s_2) = - log \\frac{len(s_1, s_2)}{2 \\cdot depthMax}$$\n",
    "\n",
    "\n",
    "\n"
   ]
  },
  {
   "cell_type": "code",
   "execution_count": null,
   "metadata": {},
   "outputs": [],
   "source": []
  },
  {
   "cell_type": "markdown",
   "metadata": {},
   "source": [
    "#### Calcolo della similarità\n",
    "\n",
    "Le funzioni precedentemente implementate richiedono come input sensi e non i termini. Quindi per calcolare la similarità fra 2 termini è necessario prendere la massima similarità fra tutti i sensi del primo termine e tutti i sensi del secondo termine. \n",
    "\n",
    "L'ipotesi quindi è che i due termini funzionino come contesto di disambiguazione l'uno per l'altro. \n",
    "\n",
    "L'equazione che formalizza questa idea è la seguente: \n",
    "\n",
    "$$sim(w_1, w_2) = \\max_{c_1 \\in s(w_1), c_2 \\in s(w_2)} [sim(c_1, c_2)]$$"
   ]
  },
  {
   "cell_type": "code",
   "execution_count": null,
   "metadata": {},
   "outputs": [],
   "source": []
  },
  {
   "cell_type": "markdown",
   "metadata": {},
   "source": [
    "### Seconda parte\n",
    "\n",
    "Implementare l’algoritmo di Lesk (!= usare implementazione esistente, e.g., in nltk…).\n",
    "1. Estrarre 50 frasi dal corpus SemCor (corpus annotato con i synset di\n",
    "WN) e disambiguare (almeno) un sostantivo per frase. \n",
    "Calcolare l’accuratezza del sistema implementato sulla base dei sensi annotati in\n",
    "SemCor.\n",
    "    - SemCor è disponibile all’URL http://web.eecs.umich.edu/~mihalcea/downloads.html\n",
    "2. Randomizzare la selezione delle 50 frasi e la selezione del termine da disambiguare, \n",
    "e restituire l’accuratezza media su (per esempio) 10 esecuzioni del programma."
   ]
  },
  {
   "cell_type": "code",
   "execution_count": null,
   "metadata": {},
   "outputs": [],
   "source": []
  }
 ],
 "metadata": {
  "kernelspec": {
   "display_name": "Python 3.9.9 64-bit",
   "language": "python",
   "name": "python3"
  },
  "language_info": {
   "codemirror_mode": {
    "name": "ipython",
    "version": 3
   },
   "file_extension": ".py",
   "mimetype": "text/x-python",
   "name": "python",
   "nbconvert_exporter": "python",
   "pygments_lexer": "ipython3",
   "version": "3.9.9"
  },
  "orig_nbformat": 4,
  "vscode": {
   "interpreter": {
    "hash": "17f6057f19fd601e680b310ee2ebe0fee3e78679207250b2f4d8f20eb0597a02"
   }
  }
 },
 "nbformat": 4,
 "nbformat_minor": 2
}
